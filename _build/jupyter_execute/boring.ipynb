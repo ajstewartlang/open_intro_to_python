{
 "cells": [
  {
   "cell_type": "markdown",
   "id": "structural-think",
   "metadata": {},
   "source": [
    "# Automate the Boring Stuff\n",
    "\n",
    "In this workshop, I’ll introduce you a few useful scripts motivated by the following book.\n",
    "\n",
    "<center>\n",
    "\n",
    "[![book_cover](images/boring.jpg)](https://automatetheboringstuff.com/)\n",
    "    \n",
    "</center>"
   ]
  },
  {
   "cell_type": "markdown",
   "id": "split-artwork",
   "metadata": {},
   "source": [
    "## Why Would you Want to Automate?\n",
    "\n",
    "Many aspects of working with data, files etc. in involve the repetition of tasks and time consuming processes. Not only do many laborious tasks take time - but they can often be quite boring and hence prone to human error. Many common tasks can be automated via scripting in Python (and other languages) - that way, they can be repeated (so are reproducible) and unlikely to lead to the same errors that people can make (unless there’s a problem in the script!)\n",
    "\n",
    "This workshop contains examples of:\n",
    "- Comparing two text files to see how they are different.\n",
    "- Using regular expressions (regex) to extract email addresses for schools in two regions of London from a spreadsheet.\n",
    "- Printing out the structure and contents of a directory.\n"
   ]
  },
  {
   "cell_type": "markdown",
   "id": "buried-istanbul",
   "metadata": {},
   "source": [
    "## Problem 1\n",
    "\n",
    "Imagine you and a colleague are writing a document collaboratively. You’ve both taken an almost-final version of the document, and then each of you has made your own edits. You now have two versions of the ‘final’ document - with only very minor changes between them. How do you compare the two versions to figure out what differences there are between them? \n",
    "\n",
    "You *could* do this manually. But how quick and accurate would you be? \n",
    "\n",
    "Can you spot the changes between the two almost identical text files below? There are three differences between the files - one addition, one deletion, and one change. Can you spot them?\n",
    "\n",
    "<center>\n",
    "\n",
    "![](images/diffs.png)\n",
    "\n",
    "</center>"
   ]
  },
  {
   "cell_type": "markdown",
   "id": "municipal-fever",
   "metadata": {},
   "source": [
    "It's tricky to do this manually, so let's look at a short Python script to automate this. The script is based on the `view.py` script from [here](https://www.programcreek.com/python/?project_name=osssanitizer%2Fosspolice).\n",
    "\n",
    "It compares two files - file1 and file2. The files need to be text files (so you may need to re-save the files as .txt files if you're running this on your own documents), and as it’s written they need to be in a folder called `data` within the folder where the Python script itself sits.\n",
    "\n",
    "The two files are compared using the Python `difflib` module. An `HTML` table is produced which highlights the differences between the two files - the path to the table is outputted by the script. We are using the `os` module so we can write the output using the appropriate file path."
   ]
  },
  {
   "cell_type": "code",
   "execution_count": 1,
   "id": "undefined-warrior",
   "metadata": {},
   "outputs": [
    {
     "name": "stdout",
     "output_type": "stream",
     "text": [
      "The table of differences can be found here: data/file1_file2_diff.html\n"
     ]
    }
   ],
   "source": [
    "# adapted from view.py at \n",
    "# https://www.programcreek.com/python/?project_name=osssanitizer%2Fosspolice\n",
    "\n",
    "import os\n",
    "import difflib\n",
    "\n",
    "file1 = \"data/file1\"\n",
    "file2 = \"data/file2\"\n",
    "\n",
    "fromlines = open(file1, \"r\").readlines()\n",
    "tolines = open(file2, \"r\").readlines()\n",
    "diff = difflib.HtmlDiff().make_file(fromlines,tolines,file1,file2)\n",
    "path = \"data/\" + os.path.basename(file1) + \"_\" + os.path.basename(file2) + \"_diff.html\"\n",
    "f = open(path,\"w\")\n",
    "f.write(diff)\n",
    "f.close()\n",
    "\n",
    "print(\"The table of differences can be found here:\", path)\n"
   ]
  },
  {
   "cell_type": "markdown",
   "id": "moral-trance",
   "metadata": {},
   "source": [
    "![](data/html_table.png)"
   ]
  },
  {
   "cell_type": "markdown",
   "id": "simple-sheffield",
   "metadata": {},
   "source": [
    "## Problem 2\n",
    "\n",
    "Imagine we have a very large (~7 MB) `.csv` file which contains a bunch of email address for all schools in the UK. We want to extract all the email address for schools in Hackney and Camden. They follow the format: \n",
    "\n",
    "name@schoolname.hackney.sch.uk\n",
    "\n",
    "name@schoolname.camden.sch.uk\n",
    "\n",
    "We could manually search through the spreadsheet using `CTRL-F` or suchlike to find these - or we could automate the task...\n",
    "\n",
    "### A Quick Tour of Regular Expressions (regex)\n",
    "\n",
    "Regular expressions allow us to search for a pattern of text. Common patterns include email address (text with the `@` symbol in the middle), web addresses that often have full stops and forward slashes, social media hashtags that begin with the `#` symbol etc. \n",
    "\n",
    ">  If you had a list of names and you wanted to find all the michaels, Michaels, Mikes and mikes, you could use a simple regular expression inside of a search-box to locate all of them at once. You can use regular expressions to find all the files in a directory that end with jpg (or jpeg, or JPG or JPEG). You can use them to find all the street addresses (every string beginning with a number, followed by a space, followed by one or more words, followed by Street, or St, or Road or Rd, etc).\n",
    "\n",
    "> Knowing (regular expressions) can mean the difference between solving a problem in three steps and solving it in 3,000 steps. When you're a nerd, you forget that the problems you solve with a couple keystrokes can take other people days of tedious, error-prone work to slog through.\n",
    "\n",
    "> https://www.theguardian.com/technology/2012/dec/04/ict-teach-kids-regular-expressions\n",
    "\n",
    "In the US, phone numbers take the form of three digits followed by a dash, followed by three more digits followed by another dash, and then finally four digits. We can capture this pattern using the following regex:\n",
    "\n",
    "`\\d\\d\\d-\\d\\d\\d-\\d\\d\\d\\d`\n",
    "\n",
    "Where each `\\d` in the regex stands for any digit character. We can combine these kind of ‘character class’ shorthand codes with literals. For example the regex `andrew\\d\\d` will match all occurrences of my name andrew which is followed by two digits (e.g., `andrew23`, `andrew09`, `andrew65` will all match, but `andrew3` will not).\n",
    "\n",
    "Other common character class shorthand codes include:\n",
    "\n",
    "- `\\D`     Any character that is not a digit from 0 to 9\n",
    "- `\\w`     Any letter, digit, or the underscore character\n",
    "- `\\W`    Any character that is not a letter, digit, or the underscore character\n",
    "- `\\s`    Any space, tab, or newline character\n",
    "\n",
    "In addition to the shorthand codes, regular expressions can include operators - some common ones are:\n",
    "\n",
    "- `.`        Matches any single character.\n",
    "- `?`        The preceding item is optional and will be matched, at most, once.\n",
    "- `*`        The preceding item will be matched zero or more times.\n",
    "- `+`        The preceding item will be matched one or more times.\n",
    "- `{N}`      The preceding item is matched exactly N times.\n",
    "- `{N,}`     The preceding item is matched N or more times.\n",
    "- `{N,M}`    The preceding item is matched at least N times, but not more than M times.\n",
    "- `-`        Represents the range if it's not first or last in a list or the ending point of a range in a list.\n",
    "- `[]`        Lists, also called bracket expressions, are a set of one or more items."
   ]
  },
  {
   "cell_type": "markdown",
   "id": "australian-illness",
   "metadata": {},
   "source": [
    "### Creating Your Own Character Class\n",
    "\n",
    "Oftentimes the shorthand character classes are too broad for the kinds of matches we want. In such cases, we can create our own character class using square brackets - and can combine them with the operators on the previous slide.\n",
    "\n",
    "For example, this regex `[aeiou]` will match any occurrences of a vowel in a string.\n",
    "\n",
    "\n",
    "The regex `[A-Za-z]+5` will match any number of characters from A-Z or a-z followed by the number 5. While the expression `[A-Za-z]{4}\\d` will match 4 characters from A-Z or a-z followed by any digit. \n",
    "\n",
    "You can play around with (and test) regular expressions here: https://regexr.com/"
   ]
  },
  {
   "cell_type": "markdown",
   "id": "searching-russian",
   "metadata": {},
   "source": [
    "### Returning to Our Problem\n",
    "\n",
    "We want to extract all the email address for schools in Hackney and Camden. They follow the format: \n",
    "\n",
    "`name@schoolname.hackney.sch.uk`\n",
    "`name@schoolname.camden.sch.uk`\n",
    "\n",
    "Both name and schoolname could contain any number of upper and lower case characters or digits but also symbols such as . or - used to separate first names from surnames (e.g., `mike.dixon` or `mike-dixon`). The same might hold for the schoolname. After `name` there will be an `@` symbol followed by `schoolname` and either the string `.hackney.sch.uk` OR `.camden.sch.uk`.\n",
    "\n",
    "So we want to create a regex that allows for these kinds of possible patterns.\n"
   ]
  },
  {
   "cell_type": "markdown",
   "id": "labeled-container",
   "metadata": {},
   "source": [
    "### Creating our regex\n",
    "\n",
    "On the basis of what we’ve just discussed, the following regex should capture what we need:\n",
    "\n",
    "`[A-Za-z0-9.-]+@[A-Za-z0-9.-]+.(hackney|camden).sch.uk`\n",
    "\n",
    "This will match patterns made up of any number of upper and lower case characters, digits, and the symbols `.` and `-`, followed by the `@` symbol, followed by any number of upper and lower case characters, digits, and the symbols `.` and `-`, followed by a `.` followed by either `hackney` OR `camden` followed by `.sch.uk`\n",
    "\n",
    "The `|` operator can be read as boolean OR so in the above regex we match for either hackney OR camden in the email address."
   ]
  },
  {
   "cell_type": "markdown",
   "id": "antique-nutrition",
   "metadata": {},
   "source": [
    "### Our Python Script for regex Searching"
   ]
  },
  {
   "cell_type": "code",
   "execution_count": 2,
   "id": "standard-induction",
   "metadata": {},
   "outputs": [
    {
     "name": "stdout",
     "output_type": "stream",
     "text": [
      "admin@thomascoram.camden.sch.uk\n",
      "ehead@netley.camden.sch.uk\n",
      "admin@argyle.camden.sch.uk\n",
      "admin@beckford.camden.sch.uk\n",
      "head@brecknock.camden.sch.uk\n",
      "admin@brookfield.camden.sch.uk\n",
      "admin@carlton.camden.sch.uk\n",
      "admin@edithneville.camden.sch.uk\n",
      "admin@fleet.camden.sch.uk\n",
      "admin@hawley.camden.sch.uk\n",
      "ehead@netley.camden.sch.uk\n",
      "admin@newend.camden.sch.uk\n",
      "head@primrosehill.camden.sch.uk\n",
      "admin@rhylprim.camden.sch.uk\n",
      "admin@rcobden.camden.sch.uk\n",
      "headofschool@torriano.camden.sch.uk\n",
      "admin@fitzjohns.camden.sch.uk\n",
      "admin@eleanorpalmer.camden.sch.uk\n",
      "admin@cchurchnw3.camden.sch.uk\n",
      "admin@cchurchnw1.camden.sch.uk\n",
      "admin@emmanuel.camden.sch.uk\n",
      "head@hampsteadprim.camden.sch.uk\n",
      "admin@holytrinitynw3.camden.sch.uk\n",
      "admin@holytrinitynw1.camden.sch.uk\n",
      "head@kentishtown.camden.sch.uk\n",
      "head@rosary.camden.sch.uk\n",
      "admin@stalbans.camden.sch.uk\n",
      "admin@stdominics.camden.sch.uk\n",
      "admin@stgeorge.camden.sch.uk\n",
      "head@stjosephs.camden.sch.uk\n",
      "admin@stmarykilburn.camden.sch.uk\n",
      "admin@stmp.camden.sch.uk\n",
      "admin@stmichaels.camden.sch.uk\n",
      "head@stpatricks.camden.sch.uk\n",
      "head@stpauls.camden.sch.uk\n",
      "admin@steugene.camden.sch.uk\n",
      "deputy@ourladys.camden.sch.uk\n",
      "office@haverstock.camden.sch.uk\n",
      "enquiries@parliamenthill.camden.sch.uk\n",
      "info@aclandburghley.camden.sch.uk\n",
      "info@williamellis.camden.sch.uk\n",
      "general@lsu.camden.sch.uk\n",
      "admin@gosh.camden.sch.uk\n",
      "admin@fbarnes.camden.sch.uk\n",
      "head@royalfree.camden.sch.uk\n",
      "admin@swisscottage.camden.sch.uk\n",
      "admin@wentworth.hackney.sch.uk\n",
      "admin@comet.hackney.sch.uk\n",
      "admin@berger.hackney.sch.uk\n",
      "office@colvestone.hackney.sch.uk\n",
      "admin@daubeney.hackney.sch.uk\n",
      "admin@debeauvoir.hackney.sch.uk\n",
      "admin@gainsborough.hackney.sch.uk\n",
      "admin@lauriston.hackney.sch.uk\n",
      "ctyson@londonfields.hackney.sch.uk\n",
      "jbetsworth@millfields.hackney.sch.uk\n",
      "jtaylor@morningside.hackney.sch.uk\n",
      "admin@orchard.hackney.sch.uk\n",
      "admin@queensbridge.hackney.sch.uk\n",
      "admin@randalcremer.hackney.sch.uk\n",
      "admin@princessmay.hackney.sch.uk\n",
      "admin@sebright.hackney.sch.uk\n",
      "admin@shacklewell.hackney.sch.uk\n",
      "adminsouthwold@vs.hackney.sch.uk\n",
      "cking@colvestone.hackney.sch.uk\n",
      "admin@tyssen.hackney.sch.uk\n",
      "admin@shoreditchpark.hackney.sch.uk\n",
      "admin@kingsmead.hackney.sch.uk\n",
      "admin@sirthomasabney.hackney.sch.uk\n",
      "info@grasmere.hackney.sch.uk\n",
      "nhewins@jubilee.hackney.sch.uk\n",
      "csashidharan@nightingale.hackney.sch.uk\n",
      "admin@baden-powell.hackney.sch.uk\n",
      "admin@harringtonhill.hackney.sch.uk\n",
      "kward@holmleigh.hackney.sch.uk\n",
      "admin@parkwood.hackney.sch.uk\n",
      "pa@benthal.hackney.sch.uk\n",
      "mdvoffice@mandeville.hackney.sch.uk\n",
      "ybarnett@holytrinity.hackney.sch.uk\n",
      "sflood@olsj.hackney.sch.uk\n",
      "office@st-john.hackney.sch.uk\n",
      "admin@st-matthias.hackney.sch.uk\n",
      "office@st-monicas.hackney.sch.uk\n",
      "klot@spsm.hackney.sch.uk\n",
      "admin@st-johnjerusalem.hackney.sch.uk\n",
      "admin-office@st-marys.hackney.sch.uk\n",
      "officeadmin@st-scholasticas.hackney.sch.uk\n",
      "info@simonmarks.hackney.sch.uk\n",
      "haggerstonschool@haggerston.hackney.sch.uk\n",
      "admin@sns.hackney.sch.uk\n",
      "officeadmin@ourladys.hackney.sch.uk\n",
      "info@stormonthouse.hackney.sch.uk\n",
      "admin@ickburgh.hackney.sch.uk\n",
      "admin@springfield.hackney.sch.uk\n",
      "info@rushmore.hackney.sch.uk\n",
      "lnichols@gayhurst.hackney.sch.uk\n",
      "admin@chrishatton.camden.sch.uk\n",
      "admin@williampatten.hackney.sch.uk\n",
      "adminHG@vs.hackney.sch.uk\n",
      "Chris.Brown@bridgeacademy.hackney.sch.uk\n",
      "admin@bettylayward.hackney.sch.uk\n",
      "office@johnjames.hackney.sch.uk\n",
      "admin@kingsgate-pri.camden.sch.uk\n",
      "laswap@williamellis.camden.sch.uk\n",
      "dfinan@stdominics.hackney.sch.uk\n",
      "Admin-regents@newregents.hackney.sch.uk\n",
      "afeltham@clapton.hackney.sch.uk\n"
     ]
    }
   ],
   "source": [
    "import csv\n",
    "import re\n",
    "\n",
    "with open('./data/school_data.csv', mode='r') as csv_file:\n",
    "    csv_reader = csv.reader(csv_file)\n",
    "    \n",
    "    for row in csv_reader:\n",
    "\n",
    "        to_search = ','.join(row)\n",
    "        patterns = re.findall(r'([A-Za-z0-9.-]+@[A-Za-z0-9.-]+.(hackney|camden).sch.uk)', to_search)    \n",
    "\n",
    "        for pattern in patterns:\n",
    "            print(pattern[0]) \n"
   ]
  },
  {
   "cell_type": "markdown",
   "id": "eastern-permission",
   "metadata": {},
   "source": [
    "## Problem 3\n",
    "\n",
    "Imaagine we have a large project directory on our computer and we want to be able to easily see what files and directories it contains, and what files and directories are contained within those directories etc. \n",
    "\n",
    "The script below traverses the contents using the path name on my computer `online_teaching/online_r_units/01_open_research_and_reproducibility`. This will print out everything in the directory `01_open_research_and_reproducibility` apart from the files within the hidden directories `.git` and `.Rproj.user` - which we define in our variable `directories_to_ignore`. This can be a useful way to visualise how you've organised the contents on your computer."
   ]
  },
  {
   "cell_type": "code",
   "execution_count": 3,
   "id": "continued-creator",
   "metadata": {},
   "outputs": [],
   "source": [
    "# adapted from Aaron Hall on https://stackoverflow.com/questions/9727673/list-directory-tree-structure-in-python\n",
    "\n",
    "from pathlib import Path\n",
    "\n",
    "space =  '    '\n",
    "branch = '│   '\n",
    "tee =    '├── '\n",
    "last =   '└── '\n",
    "directories_to_ignore = ['.git', '.Rproj.user']\n",
    "\n",
    "def tree(dir_path: Path, prefix: str=''):  \n",
    "    contents = list(dir_path.iterdir())\n",
    "    pointers = [tee] * (len(contents) - 1) + [last]\n",
    "    for pointer, path in zip(pointers, contents):\n",
    "        yield prefix + pointer + path.name\n",
    "        if path.is_dir() and path.name not in directories_to_ignore: \n",
    "            extension = branch if pointer == tee else space \n",
    "            yield from tree(path, prefix=prefix+extension)"
   ]
  },
  {
   "cell_type": "markdown",
   "id": "breathing-madison",
   "metadata": {},
   "source": [
    "The above script is written as a function called `tree`. To call it we use the code below - note, the function needs an argument corresponding to the path at which it is to start traversing the file structure. "
   ]
  },
  {
   "cell_type": "code",
   "execution_count": 4,
   "id": "proof-ribbon",
   "metadata": {},
   "outputs": [
    {
     "name": "stdout",
     "output_type": "stream",
     "text": [
      "├── .gitignore\n",
      "├── LICENSE\n",
      "├── .gitattributes\n",
      "├── 01_open_research_and_reproducibility.Rproj\n",
      "├── slides\n",
      "│   ├── introduction_to_open_research.odp\n",
      "│   ├── introduction_to_open_research.pdf\n",
      "│   ├── adopting_open_practices.pdf\n",
      "│   └── adopting_open_practices.odp\n",
      "├── .git\n",
      "├── images\n",
      "│   ├── ionnidis.png\n",
      "│   ├── how_to_do.png\n",
      "│   ├── power.png\n",
      "│   ├── cw20.png\n",
      "│   ├── 7_steps.png\n",
      "│   └── bishop.png\n",
      "├── README.md\n",
      "├── .Rhistory\n",
      "├── Dockerfile\n",
      "├── script\n",
      "│   └── 01_open_research_and_reproducibility.Rmd\n",
      "├── knitted_workshop\n",
      "│   └── 01_open_research_and_reproducibility.html\n",
      "└── .Rproj.user\n"
     ]
    }
   ],
   "source": [
    "for line in tree(Path.home() / 'online_teaching/online_r_units/01_open_research_and_reproducibility'):\n",
    "        print(line)"
   ]
  },
  {
   "cell_type": "markdown",
   "id": "advance-upgrade",
   "metadata": {},
   "source": [
    "We see from the above that our directory contains the subdiretories `script`, `Dockerfile`, `images`, `.gitattributes`, `slides` etc. And that within the `images` subdirectory, we have 6 `.png` image files."
   ]
  }
 ],
 "metadata": {
  "kernelspec": {
   "display_name": "Python (data_science)",
   "language": "python",
   "name": "data_science"
  },
  "language_info": {
   "codemirror_mode": {
    "name": "ipython",
    "version": 3
   },
   "file_extension": ".py",
   "mimetype": "text/x-python",
   "name": "python",
   "nbconvert_exporter": "python",
   "pygments_lexer": "ipython3",
   "version": "3.9.5"
  }
 },
 "nbformat": 4,
 "nbformat_minor": 5
}