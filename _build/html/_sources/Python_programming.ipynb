{
 "cells": [
  {
   "cell_type": "markdown",
   "id": "respiratory-hostel",
   "metadata": {},
   "source": [
    "# Introduction to Python"
   ]
  },
  {
   "cell_type": "markdown",
   "id": "expanded-first",
   "metadata": {},
   "source": [
    "In this second workshop we'll take our first look at programming in Python. We'll cover the key data types (including NumPy arrays), as well as functions, and control flow statements. You could do an entire course focused on learning Python as a general purpose programming languague. For our goal, we're going to focus on how to use Python and some of its key libraries for data science work. The language has been around since 1991 and is named in tribute to Monty Python...\n",
    "\n",
    "<center>\n",
    "\n",
    "![monty_python_gif](images/tenor.gif)\n",
    "\n",
    "</center>\n",
    "\n",
    "There are a couple of really good introductory books on using Python for data science that I recommend.\n",
    "\n",
    "<center>\n",
    "\n",
    "[![wes_mckinney_book](images/python_data_analysis.jpg)](https://www.amazon.co.uk/Python-Data-Analysis-Wes-Mckinney-dp-1491957662/dp/1491957662/ref=dp_ob_title_bk)  [![Jake VanderPlas_book](images/data_science_handbook.jpg)](https://www.amazon.co.uk/Python-Data-Science-Handbook-Techniques/dp/1491912057/ref=sr_1_1?crid=KFHZFNZYHQTL&dchild=1&keywords=python+data+science+handbook&qid=1619688682&s=books&sprefix=python+data+science+%2Cstripbooks%2C157&sr=1-1)\n",
    "    \n",
    "</center>"
   ]
  },
  {
   "cell_type": "code",
   "execution_count": 6,
   "id": "continental-retirement",
   "metadata": {
    "tags": [
     "hide-input"
    ]
   },
   "outputs": [
    {
     "data": {
      "text/html": [
       "<div style=\"text-align: center\">\n",
       "<iframe width=\"560\" height=\"315\" src=\"https://youtube.com/embed/i5NelhnFbrQ\" frameborder=\"0\" allowfullscreen></iframe>\n",
       "\n",
       "</div>\n"
      ],
      "text/plain": [
       "<IPython.core.display.HTML object>"
      ]
     },
     "metadata": {},
     "output_type": "display_data"
    }
   ],
   "source": [
    "%%HTML\n",
    "<div style=\"text-align: center\">\n",
    "<iframe width=\"560\" height=\"315\" src=\"https://youtube.com/embed/i5NelhnFbrQ\" frameborder=\"0\" allowfullscreen></iframe>\n",
    "\n",
    "</div>"
   ]
  },
  {
   "cell_type": "markdown",
   "id": "aquatic-salad",
   "metadata": {},
   "source": [
    "## Similarities Between Python and R\n",
    "\n",
    "Both Python and R are high-level interpreted languages - this means that Python and R scripts can only be run if you have a Python or R interpreter installed on the machine you’re using.\n",
    "\n",
    "Both Python and R are typically used with libraries or packages that can hugely expand the functionality of the basic language. \n",
    "\n",
    "When doing data science in R or Python, you’re likely using the base language plus packages such as `{dplyr}` and `{tidyr}` in R and libraries such as `numpy` and `pandas` in Python.\n",
    "\n",
    "Reproducibility is important so you need to keep track of the packages/libraries you’re using so that you can recreate your analysis at some future point (or so that someone else can recreate your analysis). \n"
   ]
  },
  {
   "cell_type": "markdown",
   "id": "solar-butler",
   "metadata": {},
   "source": [
    "## Differences Between Python and R\n",
    "\n",
    "Python is a general purpose programming language, while R is a specialised statistical programming language (although it can sometimes be used for more general programming tasks).\n",
    "\n",
    "As a language, Python code is more readable than R code and there’s a consistency in the Python language that you don’t get in R (e.g., differences in base R vs. Tidyverse syntax vs. formula syntax). While R has backwards compatibility, Python does not (e.g., differences between Python 2.x and 3.x). \n",
    "\n",
    "Python is an object-oriented programming language and this gives you flexibility to use methods to work with new objects.\n",
    "\n",
    "You can do a lot more in Python than in R, but Python lacks some of the statistical model libraries that are present in R (although it has lots more machine learning libraries).\n",
    "\n",
    "### Indendation Has Meaning In Python\n",
    "\n",
    "One of the biggest differences between Python and R, is that **in Python indentation has meaning** - in R indentation can make your scripts looks nice (but has no intrinsic meaning). In Python, indentation is used in place of { } in order to group together statements.\n",
    "\n",
    "Consider a for loop to print the numbers 1 to 10.\n",
    "\n",
    "In Python: \n",
    "\n",
    "    for i in range(1,11):\n",
    "        print(i)\n",
    "\n",
    "In R:\n",
    "\n",
    "    for (i in 1:10) {\n",
    "        print(i)\n",
    "    }\n",
    "\n",
    "### Python Uses Zero-Based Indexing\n",
    "\n",
    "In Python, indexing starts at 0 but in R indexing starts at 1. In practice, this means that if we want to reference an element in a list (for example) we need to remember the initial element is at position 0 in Python, but position 1 in R. \n",
    "\n",
    "So, to refer to the initial element `('apple')` we need to do the following:\n",
    "\n",
    "In Python:\n",
    "\n",
    "    my_list = ['apple', 'banana', 'pear']\n",
    "    my_list[0]\n",
    "\n",
    "In R:\n",
    "\n",
    "    my_list <- list('apple', 'banana', 'pear')\n",
    "    my_list[1]\n",
    "\n",
    "In both these cases the output will be `apple`."
   ]
  },
  {
   "cell_type": "code",
   "execution_count": 7,
   "id": "respiratory-mixer",
   "metadata": {
    "tags": [
     "hide-input"
    ]
   },
   "outputs": [
    {
     "data": {
      "text/html": [
       "<div style=\"text-align: center\">\n",
       "<iframe width=\"250\" height=\"250\" src=\"https://giphy.com/embed/LmNwrBhejkK9EFP504\" frameBorder=\"0\" class=\"giphy-embed\" allowFullScreen></iframe><p><a href=\"https://giphy.com/gifs/memecandy-LmNwrBhejkK9EFP504\">via GIPHY</a></p>\n",
       "</div>\n"
      ],
      "text/plain": [
       "<IPython.core.display.HTML object>"
      ]
     },
     "metadata": {},
     "output_type": "display_data"
    }
   ],
   "source": [
    "%%HTML\n",
    "<div style=\"text-align: center\">\n",
    "<iframe width=\"250\" height=\"250\" src=\"https://giphy.com/embed/LmNwrBhejkK9EFP504\" frameBorder=\"0\" class=\"giphy-embed\" allowFullScreen></iframe><p><a href=\"https://giphy.com/gifs/memecandy-LmNwrBhejkK9EFP504\">via GIPHY</a></p>\n",
    "</div>"
   ]
  },
  {
   "cell_type": "markdown",
   "id": "furnished-parliament",
   "metadata": {},
   "source": [
    "## Data Types and Variable Assignment"
   ]
  },
  {
   "cell_type": "code",
   "execution_count": 8,
   "id": "choice-input",
   "metadata": {
    "tags": [
     "hide-input"
    ]
   },
   "outputs": [
    {
     "data": {
      "text/html": [
       "<div style=\"text-align: center\">\n",
       "<iframe width=\"560\" height=\"315\" src=\"https://youtube.com/embed/DxZ0eTWYmnE\" frameborder=\"0\" allowfullscreen></iframe>\n",
       "\n",
       "</div>\n"
      ],
      "text/plain": [
       "<IPython.core.display.HTML object>"
      ]
     },
     "metadata": {},
     "output_type": "display_data"
    }
   ],
   "source": [
    "%%HTML\n",
    "<div style=\"text-align: center\">\n",
    "<iframe width=\"560\" height=\"315\" src=\"https://youtube.com/embed/DxZ0eTWYmnE\" frameborder=\"0\" allowfullscreen></iframe>\n",
    "\n",
    "</div>"
   ]
  },
  {
   "cell_type": "markdown",
   "id": "sunset-verification",
   "metadata": {},
   "source": [
    "We will be writing our code using a Jupyter Notebook. On macOS, you are going to be entering the commands below that start up a Jupyter Notebook using Terminal, and on Windows you will be using the Anaconda Prompt. Jupyter Notebooks allows us to write text in Markdown format (as I have written in this block), alongside the Python code and output. If you have completed the previous workshop, you should be able to launch a Jupyter Notebook on your own machine. Make sure you have a conda environment activated (type `conda activate` if you don't). Set up a new Notebook by typing `jupyter notebook` in a terminal window. This should launch Jupyter Notebooks running in your browser. \n",
    "\n",
    "    conda activate\n",
    "    jupyter notebook\n",
    "\n",
    "Start a new Python script in your `Python (data_science)` environment.\n",
    "\n",
    "![](images/new_notebook.png)\n",
    "\n",
    "Some of the most common data types in Python are integer (`int`) and floating point (`float`) for representing numbers, and strings (`str`) for representing text. We can assign values to variables - the data type is dynamically inferred by Python (in contrast to other languages such as C++ where they have to be explicitly declared). You can check what type a variable is by using `type()`.\n",
    "\n",
    "Try running the following two lines of Python code in your Jupyter Notebook."
   ]
  },
  {
   "cell_type": "code",
   "execution_count": 9,
   "id": "veterinary-heritage",
   "metadata": {},
   "outputs": [
    {
     "name": "stdout",
     "output_type": "stream",
     "text": [
      "<class 'str'>\n"
     ]
    }
   ],
   "source": [
    "my_name = 'Andrew'\n",
    "print(type(my_name))"
   ]
  },
  {
   "cell_type": "markdown",
   "id": "advised-commission",
   "metadata": {},
   "source": [
    "In the output, you should see that the variable `my_name` has been identified as type `str` as it is contains text.\n",
    "\n",
    "Assigning values to variables is a key component in scripting/coding. You can use variables to store values that you need to be able to access later, and variables can be re-assigned as your script progresses (maybe you want to store temporary values in a variable). You can print the contents of a variable using the `print(variable_name)` function in Python. In the code below, we create two variables. The `print` function can take multiple arguments so we can print the values of the two variables with the line `print(first_variable_name, second_variable_name)`.\n"
   ]
  },
  {
   "cell_type": "code",
   "execution_count": 10,
   "id": "electronic-reply",
   "metadata": {},
   "outputs": [
    {
     "name": "stdout",
     "output_type": "stream",
     "text": [
      "My favourite number is: 25\n"
     ]
    }
   ],
   "source": [
    "my_favourite_number_text = 'My favourite number is:'\n",
    "my_favourite_number = 25\n",
    "print(my_favourite_number_text, my_favourite_number)"
   ]
  },
  {
   "cell_type": "markdown",
   "id": "analyzed-lotus",
   "metadata": {},
   "source": [
    "Modify the above code so that it displays the following:\n",
    "    \n",
    "    25 is my favourite number.\n"
   ]
  },
  {
   "cell_type": "markdown",
   "id": "collective-hierarchy",
   "metadata": {},
   "source": [
    "```{admonition} Click the button to reveal answer\n",
    ":class: dropdown \n",
    "    my_favourite_number = 25\n",
    "    my_favourite_number_text = \"is my favourite number.\"\n",
    "    print(my_favourite_number, my_favourite_number_text)\n",
    "```"
   ]
  },
  {
   "cell_type": "markdown",
   "id": "analyzed-queensland",
   "metadata": {},
   "source": [
    "You might have come up with a slightly different solution. It's important to remember there are often several (sometimes many) ways to achieve the same task - even in quite simple cases.\n",
    "\n",
    "Let’s now assign a different number to the `my_favourite_number` variable and change the `my_favourite_number_text` back to what it was originally."
   ]
  },
  {
   "cell_type": "code",
   "execution_count": 11,
   "id": "absolute-auction",
   "metadata": {},
   "outputs": [
    {
     "name": "stdout",
     "output_type": "stream",
     "text": [
      "My favourite number is: 16\n"
     ]
    }
   ],
   "source": [
    "my_favourite_number = 16\n",
    "my_favourite_number_text = 'My favourite number is:'\n",
    "print(my_favourite_number_text, my_favourite_number)"
   ]
  },
  {
   "cell_type": "markdown",
   "id": "fitting-smith",
   "metadata": {},
   "source": [
    "## Lists"
   ]
  },
  {
   "cell_type": "code",
   "execution_count": 12,
   "id": "tight-theta",
   "metadata": {
    "tags": [
     "hide-input"
    ]
   },
   "outputs": [
    {
     "data": {
      "text/html": [
       "<div style=\"text-align: center\">\n",
       "<iframe width=\"560\" height=\"315\" src=\"https://youtube.com/embed/bINIwJnLAn4\" frameborder=\"0\" allowfullscreen></iframe>\n",
       "\n",
       "</div>\n"
      ],
      "text/plain": [
       "<IPython.core.display.HTML object>"
      ]
     },
     "metadata": {},
     "output_type": "display_data"
    }
   ],
   "source": [
    "%%HTML\n",
    "<div style=\"text-align: center\">\n",
    "<iframe width=\"560\" height=\"315\" src=\"https://youtube.com/embed/bINIwJnLAn4\" frameborder=\"0\" allowfullscreen></iframe>\n",
    "\n",
    "</div>"
   ]
  },
  {
   "cell_type": "markdown",
   "id": "institutional-appendix",
   "metadata": {},
   "source": [
    "Lists can be assigned to variables. In Python lists are indicated by square brackets, `[` and `]`, and contain elements - often of the same type - for example, lists of integers, strings etc. Lists can also contain a mix of elements of different types (but you may want to avoid this). The next bit of code creates a list called `my_numbers` that contains 4 integer elements. Remember, in contrast to R, Python uses zero-position indexing. So the first element in the list is at position 0, the second at position 1 etc. We can index an element in the list using square brackets. Let's index the second element..."
   ]
  },
  {
   "cell_type": "code",
   "execution_count": 13,
   "id": "subsequent-hamburg",
   "metadata": {},
   "outputs": [
    {
     "data": {
      "text/plain": [
       "20"
      ]
     },
     "execution_count": 13,
     "metadata": {},
     "output_type": "execute_result"
    }
   ],
   "source": [
    "my_numbers = [10, 20, 30, 40]\n",
    "my_numbers[1]"
   ]
  },
  {
   "cell_type": "markdown",
   "id": "bridal-projection",
   "metadata": {},
   "source": [
    "The next list is a list of strings. How would you go about indexing the fourth element?"
   ]
  },
  {
   "cell_type": "code",
   "execution_count": 14,
   "id": "modular-conference",
   "metadata": {},
   "outputs": [],
   "source": [
    "my_names = ['Andrew', 'Suzanne', 'Eliza', 'Seb']"
   ]
  },
  {
   "cell_type": "markdown",
   "id": "unnecessary-count",
   "metadata": {},
   "source": [
    "```{admonition} Click the button to reveal answer\n",
    ":class: dropdown \n",
    "    my_names[3]\n",
    "```"
   ]
  },
  {
   "cell_type": "markdown",
   "id": "cardiovascular-quilt",
   "metadata": {},
   "source": [
    "Elements in lists can be changed (i.e., lists are mutable):"
   ]
  },
  {
   "cell_type": "code",
   "execution_count": 15,
   "id": "quality-champion",
   "metadata": {},
   "outputs": [
    {
     "name": "stdout",
     "output_type": "stream",
     "text": [
      "['Iggy Pop', 'Suzanne', 'Eliza', 'Seb']\n"
     ]
    }
   ],
   "source": [
    "my_names[0] = 'Iggy Pop'\n",
    "print(my_names)"
   ]
  },
  {
   "cell_type": "markdown",
   "id": "modern-february",
   "metadata": {},
   "source": [
    "Lists can be sliced using `:` The following will slice from the third element to the end of the list."
   ]
  },
  {
   "cell_type": "code",
   "execution_count": 16,
   "id": "labeled-lebanon",
   "metadata": {},
   "outputs": [
    {
     "data": {
      "text/plain": [
       "['Eliza', 'Seb']"
      ]
     },
     "execution_count": 16,
     "metadata": {},
     "output_type": "execute_result"
    }
   ],
   "source": [
    "my_names[2:]"
   ]
  },
  {
   "cell_type": "markdown",
   "id": "focal-safety",
   "metadata": {},
   "source": [
    "While the line below will slice from the start of the list up to (but *excluding*) the third element."
   ]
  },
  {
   "cell_type": "code",
   "execution_count": 17,
   "id": "adult-concord",
   "metadata": {},
   "outputs": [
    {
     "data": {
      "text/plain": [
       "['Iggy Pop', 'Suzanne']"
      ]
     },
     "execution_count": 17,
     "metadata": {},
     "output_type": "execute_result"
    }
   ],
   "source": [
    "my_names[:2]"
   ]
  },
  {
   "cell_type": "markdown",
   "id": "violent-disease",
   "metadata": {},
   "source": [
    "We can also specify the start and stop points of the slicing as follows."
   ]
  },
  {
   "cell_type": "code",
   "execution_count": 18,
   "id": "further-symposium",
   "metadata": {},
   "outputs": [
    {
     "data": {
      "text/plain": [
       "['Suzanne', 'Eliza']"
      ]
     },
     "execution_count": 18,
     "metadata": {},
     "output_type": "execute_result"
    }
   ],
   "source": [
    "my_names[1:3]"
   ]
  },
  {
   "cell_type": "markdown",
   "id": "hindu-gospel",
   "metadata": {},
   "source": [
    "## Tuples"
   ]
  },
  {
   "cell_type": "code",
   "execution_count": 19,
   "id": "ethical-filter",
   "metadata": {
    "tags": [
     "hide-input"
    ]
   },
   "outputs": [
    {
     "data": {
      "text/html": [
       "<div style=\"text-align: center\">\n",
       "<iframe width=\"560\" height=\"315\" src=\"https://youtube.com/embed/i5FOo0LtT9M\" frameborder=\"0\" allowfullscreen></iframe>\n",
       "\n",
       "</div>\n"
      ],
      "text/plain": [
       "<IPython.core.display.HTML object>"
      ]
     },
     "metadata": {},
     "output_type": "display_data"
    }
   ],
   "source": [
    "%%HTML\n",
    "<div style=\"text-align: center\">\n",
    "<iframe width=\"560\" height=\"315\" src=\"https://youtube.com/embed/i5FOo0LtT9M\" frameborder=\"0\" allowfullscreen></iframe>\n",
    "\n",
    "</div>"
   ]
  },
  {
   "cell_type": "markdown",
   "id": "bizarre-tribune",
   "metadata": {},
   "source": [
    "Tuples are like lists, except they are *immutable* - in other words, their contents cannot be changed later. While lists are created using *square* brackets, tuples are created using *round* brackets. But like lists, you use *square* brackets to reference elements in a tuple."
   ]
  },
  {
   "cell_type": "code",
   "execution_count": 20,
   "id": "pharmaceutical-genius",
   "metadata": {},
   "outputs": [
    {
     "data": {
      "text/plain": [
       "40"
      ]
     },
     "execution_count": 20,
     "metadata": {},
     "output_type": "execute_result"
    }
   ],
   "source": [
    "my_tuple = (10, 20, 30, 40)\n",
    "my_tuple[3]"
   ]
  },
  {
   "cell_type": "markdown",
   "id": "talented-albany",
   "metadata": {},
   "source": [
    "If you try to change an element in a tuple, an error will be generated."
   ]
  },
  {
   "cell_type": "code",
   "execution_count": 21,
   "id": "serial-throw",
   "metadata": {},
   "outputs": [
    {
     "ename": "TypeError",
     "evalue": "'tuple' object does not support item assignment",
     "output_type": "error",
     "traceback": [
      "\u001b[0;31m---------------------------------------------------------------------------\u001b[0m",
      "\u001b[0;31mTypeError\u001b[0m                                 Traceback (most recent call last)",
      "\u001b[0;32m<ipython-input-21-ff0b7a9231b8>\u001b[0m in \u001b[0;36m<module>\u001b[0;34m\u001b[0m\n\u001b[0;32m----> 1\u001b[0;31m \u001b[0mmy_tuple\u001b[0m\u001b[0;34m[\u001b[0m\u001b[0;36m3\u001b[0m\u001b[0;34m]\u001b[0m \u001b[0;34m=\u001b[0m \u001b[0;36m5\u001b[0m\u001b[0;34m\u001b[0m\u001b[0;34m\u001b[0m\u001b[0m\n\u001b[0m",
      "\u001b[0;31mTypeError\u001b[0m: 'tuple' object does not support item assignment"
     ]
    }
   ],
   "source": [
    "my_tuple[3] = 5"
   ]
  },
  {
   "cell_type": "markdown",
   "id": "usual-algeria",
   "metadata": {},
   "source": [
    "Tuples can be sliced too. The following will slice from the start up to (but excluding) the fourth element."
   ]
  },
  {
   "cell_type": "code",
   "execution_count": 22,
   "id": "strong-montana",
   "metadata": {},
   "outputs": [
    {
     "data": {
      "text/plain": [
       "(10, 20, 30)"
      ]
     },
     "execution_count": 22,
     "metadata": {},
     "output_type": "execute_result"
    }
   ],
   "source": [
    "my_tuple[:3]"
   ]
  },
  {
   "cell_type": "markdown",
   "id": "administrative-uruguay",
   "metadata": {},
   "source": [
    "How would you slice `my_tuple` so that it contains only the second and third elements?"
   ]
  },
  {
   "cell_type": "markdown",
   "id": "alpine-determination",
   "metadata": {},
   "source": [
    ":::{admonition} Click the button to reveal answer\n",
    ":class: dropdown \n",
    "    my_tuple[1:3]\n",
    ":::"
   ]
  },
  {
   "cell_type": "markdown",
   "id": "blond-interaction",
   "metadata": {},
   "source": [
    "If you wanted to, you could map the above output onto a new variable called `my_sliced_tuple` and use the operator `==` (more on this later) to check that they are the same."
   ]
  },
  {
   "cell_type": "code",
   "execution_count": 23,
   "id": "civilian-decline",
   "metadata": {},
   "outputs": [
    {
     "data": {
      "text/plain": [
       "True"
      ]
     },
     "execution_count": 23,
     "metadata": {},
     "output_type": "execute_result"
    }
   ],
   "source": [
    "my_sliced_tuple = my_tuple[:3]\n",
    "my_sliced_tuple == my_tuple[:3]"
   ]
  },
  {
   "cell_type": "markdown",
   "id": "mathematical-director",
   "metadata": {},
   "source": [
    "## Arrays"
   ]
  },
  {
   "cell_type": "code",
   "execution_count": 1,
   "id": "horizontal-portable",
   "metadata": {
    "tags": [
     "hide-input"
    ]
   },
   "outputs": [
    {
     "data": {
      "text/html": [
       "<div style=\"text-align: center\">\n",
       "<iframe width=\"560\" height=\"315\" src=\"https://youtube.com/embed/YvfGr8ZN5-k\" frameborder=\"0\" allowfullscreen></iframe>\n",
       "\n",
       "</div>\n"
      ],
      "text/plain": [
       "<IPython.core.display.HTML object>"
      ]
     },
     "metadata": {},
     "output_type": "display_data"
    }
   ],
   "source": [
    "%%HTML\n",
    "<div style=\"text-align: center\">\n",
    "<iframe width=\"560\" height=\"315\" src=\"https://youtube.com/embed/YvfGr8ZN5-k\" frameborder=\"0\" allowfullscreen></iframe>\n",
    "\n",
    "</div>"
   ]
  },
  {
   "cell_type": "markdown",
   "id": "manual-experience",
   "metadata": {},
   "source": [
    "An array is a data structure consisting of a collection of elements, each identified by at least one array index (or key). Arrays are core data structures in data science and machine learning. For example, you can store images as 2-dimensional arrays representing pixel brightness across the area of the image.\n",
    "\n",
    "Data frames and tibbles in R are types of 2-dimensional arrays - data stored in rectangular format with rows and columns. Arrays don’t have to just be in two dimensions but it can be tricky imagining more dimensions...\n",
    "\n",
    "NumPy arrays are better than inbuilt Python arrays in that they are more efficient as the arrays grow larger in size. \n",
    "\n",
    "In the code below we’re importing the `numpy` package as `np` (this is the conventional alias for this package). We then set our randomisation seed to ensure reproducibility. Remember, computers can't generate true random numbers so use an algorithm. We can fix the start of this algorithmic generation procedure to ensure that if we re-run our code we get the same random numbers. We then create an array of random integers from 0 (inclusively) and 10 (exclusively) that has 3 rows and 4 columns. We use the NumPy routine `random` and the operation `randint` to generate this array. We need to specify the low and high values of the range we're sampling from, and the shape of the array (number of rows by number of columns) we are wanting to generate."
   ]
  },
  {
   "cell_type": "code",
   "execution_count": 25,
   "id": "historic-curtis",
   "metadata": {},
   "outputs": [
    {
     "data": {
      "text/plain": [
       "array([[3, 6, 5, 4],\n",
       "       [8, 9, 1, 7],\n",
       "       [9, 6, 8, 0]])"
      ]
     },
     "execution_count": 25,
     "metadata": {},
     "output_type": "execute_result"
    }
   ],
   "source": [
    "import numpy as np\n",
    "\n",
    "np.random.seed(1234)\n",
    "my_array = np.random.randint(low=0, high=10, size=(3, 4))\n",
    "my_array"
   ]
  },
  {
   "cell_type": "markdown",
   "id": "aquatic-beginning",
   "metadata": {},
   "source": [
    "We can then check the shape of the array using `.shape` "
   ]
  },
  {
   "cell_type": "code",
   "execution_count": 26,
   "id": "published-lobby",
   "metadata": {},
   "outputs": [
    {
     "data": {
      "text/plain": [
       "(3, 4)"
      ]
     },
     "execution_count": 26,
     "metadata": {},
     "output_type": "execute_result"
    }
   ],
   "source": [
    "my_array.shape"
   ]
  },
  {
   "cell_type": "markdown",
   "id": "central-editing",
   "metadata": {},
   "source": [
    "## Getting Help\n",
    "\n",
    "In your Jupyter Notebook you can type `help()` and put in the brackets the name of the module and function you want help with. Most help files are incredibly useful and will clearly describe what a function does, what it takes as its input parameters, and what it returns in its output. Below is what I get when I ask for help with the `shape` operation in `numpy`."
   ]
  },
  {
   "cell_type": "code",
   "execution_count": 27,
   "id": "becoming-order",
   "metadata": {},
   "outputs": [
    {
     "name": "stdout",
     "output_type": "stream",
     "text": [
      "Help on function shape in module numpy:\n",
      "\n",
      "shape(a)\n",
      "    Return the shape of an array.\n",
      "    \n",
      "    Parameters\n",
      "    ----------\n",
      "    a : array_like\n",
      "        Input array.\n",
      "    \n",
      "    Returns\n",
      "    -------\n",
      "    shape : tuple of ints\n",
      "        The elements of the shape tuple give the lengths of the\n",
      "        corresponding array dimensions.\n",
      "    \n",
      "    See Also\n",
      "    --------\n",
      "    alen\n",
      "    ndarray.shape : Equivalent array method.\n",
      "    \n",
      "    Examples\n",
      "    --------\n",
      "    >>> np.shape(np.eye(3))\n",
      "    (3, 3)\n",
      "    >>> np.shape([[1, 2]])\n",
      "    (1, 2)\n",
      "    >>> np.shape([0])\n",
      "    (1,)\n",
      "    >>> np.shape(0)\n",
      "    ()\n",
      "    \n",
      "    >>> a = np.array([(1, 2), (3, 4)], dtype=[('x', 'i4'), ('y', 'i4')])\n",
      "    >>> np.shape(a)\n",
      "    (2,)\n",
      "    >>> a.shape\n",
      "    (2,)\n",
      "\n"
     ]
    }
   ],
   "source": [
    "help(np.shape)"
   ]
  },
  {
   "cell_type": "markdown",
   "id": "sound-stylus",
   "metadata": {},
   "source": [
    "## Variable Assignments are References (not Copies)"
   ]
  },
  {
   "cell_type": "code",
   "execution_count": 28,
   "id": "engaging-cardiff",
   "metadata": {
    "tags": [
     "hide-input"
    ]
   },
   "outputs": [
    {
     "data": {
      "text/html": [
       "<div style=\"text-align: center\">\n",
       "<iframe width=\"560\" height=\"315\" src=\"https://youtube.com/embed/BnbjqxFZRlk\" frameborder=\"0\" allowfullscreen></iframe>\n",
       "\n",
       "</div>\n"
      ],
      "text/plain": [
       "<IPython.core.display.HTML object>"
      ]
     },
     "metadata": {},
     "output_type": "display_data"
    }
   ],
   "source": [
    "%%HTML\n",
    "<div style=\"text-align: center\">\n",
    "<iframe width=\"560\" height=\"315\" src=\"https://youtube.com/embed/BnbjqxFZRlk\" frameborder=\"0\" allowfullscreen></iframe>\n",
    "\n",
    "</div>"
   ]
  },
  {
   "cell_type": "markdown",
   "id": "sophisticated-screw",
   "metadata": {},
   "source": [
    "Assignment in Python involves creating bindings between a target and an object in computer memory - not just simple copying - this can easily trip you up if you assume that assignment creates a new **copy** of of the original object."
   ]
  },
  {
   "cell_type": "code",
   "execution_count": 29,
   "id": "occupied-physiology",
   "metadata": {},
   "outputs": [
    {
     "name": "stdout",
     "output_type": "stream",
     "text": [
      "['Andrew', 'Suzanne', 'Eliza', 'Seb']\n"
     ]
    }
   ],
   "source": [
    "my_old_names = ['Andrew', 'Suzanne', 'Eliza', 'Seb']\n",
    "my_new_names = my_old_names\n",
    "\n",
    "print(my_new_names)"
   ]
  },
  {
   "cell_type": "code",
   "execution_count": 30,
   "id": "genuine-distributor",
   "metadata": {},
   "outputs": [
    {
     "name": "stdout",
     "output_type": "stream",
     "text": [
      "['this is surprising', 'Suzanne', 'Eliza', 'Seb']\n"
     ]
    }
   ],
   "source": [
    "my_old_names[0] = 'this is surprising'\n",
    "\n",
    "print(my_new_names)"
   ]
  },
  {
   "cell_type": "markdown",
   "id": "diagnostic-measure",
   "metadata": {},
   "source": [
    "Note that in the above code we're changing the first element in the list `my_old_names` but keeping the variable `my_new_names` the same as it was (or so we think). But if we now print `my_new_names` we see that this list reflects the change we made to `my_old_names`. This will catch you out unless you realise that both variable names are pointing to the same contents in the computer's memory."
   ]
  },
  {
   "cell_type": "markdown",
   "id": "broad-literacy",
   "metadata": {},
   "source": [
    "## Functions"
   ]
  },
  {
   "cell_type": "code",
   "execution_count": 31,
   "id": "cellular-temperature",
   "metadata": {
    "tags": [
     "hide-input"
    ]
   },
   "outputs": [
    {
     "data": {
      "text/html": [
       "<div style=\"text-align: center\">\n",
       "<iframe width=\"560\" height=\"315\" src=\"https://youtube.com/embed/zvIEzvX5zEU\" frameborder=\"0\" allowfullscreen></iframe>\n",
       "\n",
       "</div>\n"
      ],
      "text/plain": [
       "<IPython.core.display.HTML object>"
      ]
     },
     "metadata": {},
     "output_type": "display_data"
    }
   ],
   "source": [
    "%%HTML\n",
    "<div style=\"text-align: center\">\n",
    "<iframe width=\"560\" height=\"315\" src=\"https://youtube.com/embed/zvIEzvX5zEU\" frameborder=\"0\" allowfullscreen></iframe>\n",
    "\n",
    "</div>"
   ]
  },
  {
   "cell_type": "markdown",
   "id": "informed-isaac",
   "metadata": {},
   "source": [
    "Python has a number of built-in functions such as `print()`, `abs()`, `bin()` etc. You can see the full list [here](https://docs.python.org/3/library/functions.html). Generally, functions take an input, do something with the input, and then output the result. You can use the `help()` function to get help on other functions. "
   ]
  },
  {
   "cell_type": "code",
   "execution_count": 32,
   "id": "ambient-pharmaceutical",
   "metadata": {},
   "outputs": [
    {
     "name": "stdout",
     "output_type": "stream",
     "text": [
      "Help on built-in function print in module builtins:\n",
      "\n",
      "print(...)\n",
      "    print(value, ..., sep=' ', end='\\n', file=sys.stdout, flush=False)\n",
      "    \n",
      "    Prints the values to a stream, or to sys.stdout by default.\n",
      "    Optional keyword arguments:\n",
      "    file:  a file-like object (stream); defaults to the current sys.stdout.\n",
      "    sep:   string inserted between values, default a space.\n",
      "    end:   string appended after the last value, default a newline.\n",
      "    flush: whether to forcibly flush the stream.\n",
      "\n"
     ]
    }
   ],
   "source": [
    "help(print)"
   ]
  },
  {
   "cell_type": "markdown",
   "id": "tropical-father",
   "metadata": {},
   "source": [
    "## User-Defined Functions\n",
    "\n",
    "If you find yourself writing the same chunk of code again and again, you might want to turn it into a function. For example, imagine I want to display someone’s BMI on the basis of knowing their height (in metres) and mass (in kg). The formula for BMI is: BMI = kg/m2. Let’s write a function that takes as its input someone’s weight and height, and then returns their BMI. We use `def` to define our function that we're calling `bmi`. It takes two parameters, `weight` and `height`. Inside the body of the function it creates a new variable called `bmi_value` which is `weight` divided by `height` squared. The function then returns this value.\n",
    "\n",
    "We can call the function to work out the bmi of someone with a weight of 87 kgs, and a height of 1.8 metres with with `bmi(87, 1.8)`.\n",
    "\n",
    "Note that in the code below we are using indentation for the body of the function. Indentation in Python is important and is meaningful (i.e., it's not an aesthetic decision). Indentation is used to indicate a block of code. The convention is to indent each line of a block by 4 spaces (don't use tab). "
   ]
  },
  {
   "cell_type": "code",
   "execution_count": 33,
   "id": "noticed-controversy",
   "metadata": {},
   "outputs": [
    {
     "data": {
      "text/plain": [
       "26.85185185185185"
      ]
     },
     "execution_count": 33,
     "metadata": {},
     "output_type": "execute_result"
    }
   ],
   "source": [
    "def bmi(weight, height):\n",
    "    bmi_value = weight/(height*height)\n",
    "    return bmi_value\n",
    "\n",
    "bmi(87, 1.8)"
   ]
  },
  {
   "cell_type": "markdown",
   "id": "second-caution",
   "metadata": {},
   "source": [
    "Your challenge to write a function that calculates Cohen's d, a common measure of effect size, for an experiment given two means of 1020 and 1000, and a pooled standard deviation (SD) of 50. The equation for Cohen's d is:\n",
    "    \n",
    "$$\n",
    "  Cohen's D = \\frac{mean1 - mean2}{pooled\\: SD}\n",
    "$$\n",
    "\n",
    "Your function will need to take three arguments (the two means plus the pooled SD) and return the Cohen's d value. Try that now."
   ]
  },
  {
   "cell_type": "markdown",
   "id": "genetic-delicious",
   "metadata": {},
   "source": [
    ":::{admonition} One possible solution is below.\n",
    ":class: dropdown \n",
    "    def cohen_d(mean1, mean2, sd):  \n",
    "        effect_size = (mean1 - mean2) / sd  \n",
    "        return effect_size  \n",
    "  \n",
    "    cohen_d(1020, 1000, 50)  \n",
    ":::"
   ]
  },
  {
   "cell_type": "markdown",
   "id": "informative-tennessee",
   "metadata": {},
   "source": [
    "## Control Flow Statements - For Loops"
   ]
  },
  {
   "cell_type": "code",
   "execution_count": 34,
   "id": "willing-headline",
   "metadata": {
    "tags": [
     "hide-input"
    ]
   },
   "outputs": [
    {
     "data": {
      "text/html": [
       "<div style=\"text-align: center\">\n",
       "<iframe width=\"560\" height=\"315\" src=\"https://youtube.com/embed/vQrhJMd6Hb8\" frameborder=\"0\" allowfullscreen></iframe>\n",
       "\n",
       "</div>\n"
      ],
      "text/plain": [
       "<IPython.core.display.HTML object>"
      ]
     },
     "metadata": {},
     "output_type": "display_data"
    }
   ],
   "source": [
    "%%HTML\n",
    "<div style=\"text-align: center\">\n",
    "<iframe width=\"560\" height=\"315\" src=\"https://youtube.com/embed/vQrhJMd6Hb8\" frameborder=\"0\" allowfullscreen></iframe>\n",
    "\n",
    "</div>"
   ]
  },
  {
   "cell_type": "markdown",
   "id": "boxed-distance",
   "metadata": {},
   "source": [
    "We can run the same command or chunk of code any number of times by placing it within a `for` loop. In the following, we print the phrase `Hello world!` five times. In Python, the code block within the loop that is to be repeated needs to indented."
   ]
  },
  {
   "cell_type": "code",
   "execution_count": 35,
   "id": "amino-seeking",
   "metadata": {},
   "outputs": [
    {
     "name": "stdout",
     "output_type": "stream",
     "text": [
      "Hello world!\n",
      "Hello world!\n",
      "Hello world!\n",
      "Hello world!\n",
      "Hello world!\n"
     ]
    }
   ],
   "source": [
    "for i in range(0, 5):\n",
    "    print('Hello world!')"
   ]
  },
  {
   "cell_type": "markdown",
   "id": "defensive-hometown",
   "metadata": {},
   "source": [
    "We can also iterate over elements in an array using a `for` loop. In the following example, we iterate through the elements in our list and print each element."
   ]
  },
  {
   "cell_type": "code",
   "execution_count": 36,
   "id": "requested-softball",
   "metadata": {},
   "outputs": [
    {
     "name": "stdout",
     "output_type": "stream",
     "text": [
      "Andrew\n",
      "Suzanne\n",
      "Eliza\n",
      "Seb\n"
     ]
    }
   ],
   "source": [
    "my_names = ['Andrew', 'Suzanne', 'Eliza', 'Seb']\n",
    "\n",
    "for element in my_names:\n",
    "    print(element)"
   ]
  },
  {
   "cell_type": "markdown",
   "id": "applied-transcription",
   "metadata": {},
   "source": [
    "### Iterating Over an Array"
   ]
  },
  {
   "cell_type": "code",
   "execution_count": 1,
   "id": "derived-globe",
   "metadata": {
    "tags": [
     "hide-input"
    ]
   },
   "outputs": [
    {
     "data": {
      "text/html": [
       "<div style=\"text-align: center\">\n",
       "<iframe width=\"560\" height=\"315\" src=\"https://youtube.com/embed/Uu_jm-Ukp_U\" frameborder=\"0\" allowfullscreen></iframe>\n",
       "\n",
       "</div>\n"
      ],
      "text/plain": [
       "<IPython.core.display.HTML object>"
      ]
     },
     "metadata": {},
     "output_type": "display_data"
    }
   ],
   "source": [
    "%%HTML\n",
    "<div style=\"text-align: center\">\n",
    "<iframe width=\"560\" height=\"315\" src=\"https://youtube.com/embed/Uu_jm-Ukp_U\" frameborder=\"0\" allowfullscreen></iframe>\n",
    "\n",
    "</div>"
   ]
  },
  {
   "cell_type": "markdown",
   "id": "secret-struggle",
   "metadata": {},
   "source": [
    "In the same way we can iterate over lists, we can iterate over arrays row-by-row.  Let’s create a 2-dimensional array called `vital_stats` with the weights and heights of three individuals. The first row of the array will be their weights, and the second row their heights.  The third will be their names."
   ]
  },
  {
   "cell_type": "code",
   "execution_count": 38,
   "id": "naked-challenge",
   "metadata": {},
   "outputs": [
    {
     "name": "stdout",
     "output_type": "stream",
     "text": [
      "[['70' '60' '90']\n",
      " ['1.67' '1.77' '1.78']\n",
      " ['Iggy' 'David' 'Lou']]\n"
     ]
    }
   ],
   "source": [
    "weights = np.array([70, 60, 90])\n",
    "heights = np.array([1.67, 1.77, 1.78])\n",
    "names = np.array(['Iggy', 'David', 'Lou'])\n",
    "vital_stats = np.array((weights, heights, names))\n",
    "\n",
    "print(vital_stats)"
   ]
  },
  {
   "cell_type": "markdown",
   "id": "unlimited-england",
   "metadata": {},
   "source": [
    "We see that in a for loop we can iterate over the rows in our array. "
   ]
  },
  {
   "cell_type": "code",
   "execution_count": 39,
   "id": "lucky-feelings",
   "metadata": {},
   "outputs": [
    {
     "name": "stdout",
     "output_type": "stream",
     "text": [
      "['70' '60' '90']\n",
      "['1.67' '1.77' '1.78']\n",
      "['Iggy' 'David' 'Lou']\n"
     ]
    }
   ],
   "source": [
    "for index in vital_stats:\n",
    "    print(index)"
   ]
  },
  {
   "cell_type": "markdown",
   "id": "dimensional-visitor",
   "metadata": {},
   "source": [
    "What we really want to do is iterate over columns.  Luckily there is a Transpose attribute built into NumPy arrays that produces the transposed array (i.e., columns and rows swapped)."
   ]
  },
  {
   "cell_type": "code",
   "execution_count": 40,
   "id": "systematic-tourist",
   "metadata": {},
   "outputs": [
    {
     "name": "stdout",
     "output_type": "stream",
     "text": [
      "['70' '1.67' 'Iggy']\n",
      "['60' '1.77' 'David']\n",
      "['90' '1.78' 'Lou']\n"
     ]
    }
   ],
   "source": [
    "for index in vital_stats.T:\n",
    "    print(index)"
   ]
  },
  {
   "cell_type": "markdown",
   "id": "australian-office",
   "metadata": {},
   "source": [
    "We can cycle through the rows of this transposed array (with the rows now corresponding to the weight, height and name of each individual), and pass these values to the `bmi` function that we wrote. Each person’s weight is in column 0 of the array, and each person’s height in column 1. Their name is in column 2. The following loop cycles through our NumPy array person by person and calls the `bmi` function for each person in the array before printing out the result (rounded to zero decimal places using the `round` function). Note that the elements in the array we have created are all of type `str` as this is the only way to represent the elements as being of the same type (which is a requirement of NumPy arrays). We can convert each number that is currently of type `str` to a number with `float` so that we can pass it to the `bmi` function. "
   ]
  },
  {
   "cell_type": "code",
   "execution_count": 41,
   "id": "needed-employer",
   "metadata": {},
   "outputs": [
    {
     "name": "stdout",
     "output_type": "stream",
     "text": [
      "Iggy has a BMI of 25\n",
      "David has a BMI of 19\n",
      "Lou has a BMI of 28\n"
     ]
    }
   ],
   "source": [
    "for person in vital_stats.T:\n",
    "    weight = float(person[0])\n",
    "    height = float(person[1])\n",
    "    print(person[2], 'has a BMI of', round(bmi(weight, height)))"
   ]
  },
  {
   "cell_type": "markdown",
   "id": "decimal-calgary",
   "metadata": {},
   "source": [
    "Imagine three experiments. Each is a between participants design with two groups. For Experiments 1, 2, and 3 the mean of group 1 is always 500. For Experiments 1, 2, and 3 the means of group 2 are 485, 490, and 495 respectively. The pooled SD for all groups is 10. Write the code that will produce Cohen's d from a `numpy` array that contains the means and the pooled SD for each of the three experiments."
   ]
  },
  {
   "cell_type": "markdown",
   "id": "framed-howard",
   "metadata": {},
   "source": [
    ":::{admonition} One possible solution is below.\n",
    ":class: dropdown \n",
    "    experiment1 = np.array([500, 485, 10])\n",
    "    experiment2 = np.array([500, 490, 10])\n",
    "    experiment3 = np.array([500, 495, 10])\n",
    "\n",
    "    all_experiments = np.array((experiment1, experiment2, experiment3))\n",
    "\n",
    "    all_experiments\n",
    "\n",
    "    def cohen_d(mean1, mean2, sd):  \n",
    "            effect_size = (mean1-mean2)/sd  \n",
    "            return effect_size  \n",
    " \n",
    "    all_experiments[0]\n",
    "\n",
    "    for experiment in all_experiments:\n",
    "        mean1 = experiment[0]\n",
    "        mean2 = experiment[1]\n",
    "        sd = experiment[2]\n",
    "        print(cohen_d(mean1, mean2, sd))\n",
    ":::"
   ]
  },
  {
   "cell_type": "markdown",
   "id": "numeric-venue",
   "metadata": {},
   "source": [
    "## Operators"
   ]
  },
  {
   "cell_type": "code",
   "execution_count": 42,
   "id": "separate-publicity",
   "metadata": {
    "tags": [
     "hide-input"
    ]
   },
   "outputs": [
    {
     "data": {
      "text/html": [
       "<div style=\"text-align: center\">\n",
       "<iframe width=\"560\" height=\"315\" src=\"https://youtube.com/embed/2UphPf9kpew\" frameborder=\"0\" allowfullscreen></iframe>\n",
       "\n",
       "</div>\n"
      ],
      "text/plain": [
       "<IPython.core.display.HTML object>"
      ]
     },
     "metadata": {},
     "output_type": "display_data"
    }
   ],
   "source": [
    "%%HTML\n",
    "<div style=\"text-align: center\">\n",
    "<iframe width=\"560\" height=\"315\" src=\"https://youtube.com/embed/2UphPf9kpew\" frameborder=\"0\" allowfullscreen></iframe>\n",
    "\n",
    "</div>"
   ]
  },
  {
   "cell_type": "markdown",
   "id": "academic-exposure",
   "metadata": {},
   "source": [
    "The kinds of logical operators that you’ve come across in `R`, are also used in `Python`. They result in `True` or `False`. For example, for variables `a` and `b`:\n",
    "\n",
    "Equals: a == b  \n",
    "Not Equals: a != b  \n",
    "Less than: a < b  \n",
    "Less than or equal to: a <= b  \n",
    "Greater than: a > b  \n",
    "Greater than or equal to: a >= b  \n",
    "\n",
    "These expressions can be used in lots of contexts including in control flow statements where evaluation of an expression determines how the control flow statement is interpreted. In Python the logical operator AND is represented by `and`, OR by `or`, and NOT by `not`."
   ]
  },
  {
   "cell_type": "code",
   "execution_count": 43,
   "id": "sporting-phenomenon",
   "metadata": {},
   "outputs": [],
   "source": [
    "a = 5\n",
    "b = 6"
   ]
  },
  {
   "cell_type": "code",
   "execution_count": 44,
   "id": "advisory-conditioning",
   "metadata": {},
   "outputs": [
    {
     "data": {
      "text/plain": [
       "False"
      ]
     },
     "execution_count": 44,
     "metadata": {},
     "output_type": "execute_result"
    }
   ],
   "source": [
    "a == b"
   ]
  },
  {
   "cell_type": "code",
   "execution_count": 45,
   "id": "alien-pierce",
   "metadata": {},
   "outputs": [
    {
     "data": {
      "text/plain": [
       "True"
      ]
     },
     "execution_count": 45,
     "metadata": {},
     "output_type": "execute_result"
    }
   ],
   "source": [
    "a != b"
   ]
  },
  {
   "cell_type": "code",
   "execution_count": 46,
   "id": "opponent-moisture",
   "metadata": {},
   "outputs": [
    {
     "data": {
      "text/plain": [
       "True"
      ]
     },
     "execution_count": 46,
     "metadata": {},
     "output_type": "execute_result"
    }
   ],
   "source": [
    "a < b"
   ]
  },
  {
   "cell_type": "code",
   "execution_count": 47,
   "id": "qualified-applicant",
   "metadata": {},
   "outputs": [
    {
     "data": {
      "text/plain": [
       "True"
      ]
     },
     "execution_count": 47,
     "metadata": {},
     "output_type": "execute_result"
    }
   ],
   "source": [
    "a <= b"
   ]
  },
  {
   "cell_type": "code",
   "execution_count": 48,
   "id": "chubby-radiation",
   "metadata": {},
   "outputs": [
    {
     "data": {
      "text/plain": [
       "False"
      ]
     },
     "execution_count": 48,
     "metadata": {},
     "output_type": "execute_result"
    }
   ],
   "source": [
    "a > b"
   ]
  },
  {
   "cell_type": "code",
   "execution_count": 49,
   "id": "informal-contemporary",
   "metadata": {},
   "outputs": [
    {
     "data": {
      "text/plain": [
       "False"
      ]
     },
     "execution_count": 49,
     "metadata": {},
     "output_type": "execute_result"
    }
   ],
   "source": [
    "a >= b"
   ]
  },
  {
   "cell_type": "markdown",
   "id": "competitive-granny",
   "metadata": {},
   "source": [
    "You can also compare NumPy arrays element by element using logical operators as follows."
   ]
  },
  {
   "cell_type": "code",
   "execution_count": 50,
   "id": "voluntary-water",
   "metadata": {},
   "outputs": [],
   "source": [
    "a = np.array([1, 2, 3])\n",
    "b = np.array([3, 2, 1])"
   ]
  },
  {
   "cell_type": "code",
   "execution_count": 51,
   "id": "entertaining-familiar",
   "metadata": {},
   "outputs": [
    {
     "data": {
      "text/plain": [
       "array([False,  True, False])"
      ]
     },
     "execution_count": 51,
     "metadata": {},
     "output_type": "execute_result"
    }
   ],
   "source": [
    "a == b"
   ]
  },
  {
   "cell_type": "code",
   "execution_count": 52,
   "id": "generous-disease",
   "metadata": {},
   "outputs": [
    {
     "data": {
      "text/plain": [
       "array([ True, False, False])"
      ]
     },
     "execution_count": 52,
     "metadata": {},
     "output_type": "execute_result"
    }
   ],
   "source": [
    "a < b"
   ]
  },
  {
   "cell_type": "markdown",
   "id": "eleven-routine",
   "metadata": {},
   "source": [
    "You can also apply arithmetic operations to arrays on an element by element basis. "
   ]
  },
  {
   "cell_type": "code",
   "execution_count": 53,
   "id": "sunrise-gauge",
   "metadata": {},
   "outputs": [
    {
     "data": {
      "text/plain": [
       "array([4, 4, 4])"
      ]
     },
     "execution_count": 53,
     "metadata": {},
     "output_type": "execute_result"
    }
   ],
   "source": [
    "a + b"
   ]
  },
  {
   "cell_type": "markdown",
   "id": "tamil-shakespeare",
   "metadata": {},
   "source": [
    "## Control Flow Statements - While Loops"
   ]
  },
  {
   "cell_type": "code",
   "execution_count": 54,
   "id": "contemporary-corpus",
   "metadata": {
    "tags": [
     "hide-input"
    ]
   },
   "outputs": [
    {
     "data": {
      "text/html": [
       "<div style=\"text-align: center\">\n",
       "<iframe width=\"560\" height=\"315\" src=\"https://youtube.com/embed/dmteK2wKjv4\" frameborder=\"0\" allowfullscreen></iframe>\n",
       "\n",
       "</div>\n"
      ],
      "text/plain": [
       "<IPython.core.display.HTML object>"
      ]
     },
     "metadata": {},
     "output_type": "display_data"
    }
   ],
   "source": [
    "%%HTML\n",
    "<div style=\"text-align: center\">\n",
    "<iframe width=\"560\" height=\"315\" src=\"https://youtube.com/embed/dmteK2wKjv4\" frameborder=\"0\" allowfullscreen></iframe>\n",
    "\n",
    "</div>"
   ]
  },
  {
   "cell_type": "markdown",
   "id": "quick-amateur",
   "metadata": {},
   "source": [
    "Code inside a while loop runs as long as the while loop evaluates to `True`. For example, we set a counter, `i`, to equal zero. The code in the `while` loop will run as long as the counter, `i`, does not equal 2. Each time we run the code in the while loop, we increment `i` by 1. This means that this loop will run exactly twice, each time printing the `i`th element in the list."
   ]
  },
  {
   "cell_type": "code",
   "execution_count": 55,
   "id": "thermal-aberdeen",
   "metadata": {},
   "outputs": [
    {
     "name": "stdout",
     "output_type": "stream",
     "text": [
      "Andrew\n",
      "Suzanne\n"
     ]
    }
   ],
   "source": [
    "my_names = ['Andrew', 'Suzanne', 'Eliza', 'Seb']\n",
    "\n",
    "i = 0\n",
    "\n",
    "while i != 2:\n",
    "    print(my_names[i])\n",
    "    i += 1\n"
   ]
  },
  {
   "cell_type": "markdown",
   "id": "rental-forward",
   "metadata": {},
   "source": [
    "## Control Flow Statements - Conditionals"
   ]
  },
  {
   "cell_type": "code",
   "execution_count": 56,
   "id": "naked-survival",
   "metadata": {
    "tags": [
     "hide-input"
    ]
   },
   "outputs": [
    {
     "data": {
      "text/html": [
       "<div style=\"text-align: center\">\n",
       "<iframe width=\"560\" height=\"315\" src=\"https://youtube.com/embed/WBDUYuQ-r7I\" frameborder=\"0\" allowfullscreen></iframe>\n",
       "\n",
       "</div>\n"
      ],
      "text/plain": [
       "<IPython.core.display.HTML object>"
      ]
     },
     "metadata": {},
     "output_type": "display_data"
    }
   ],
   "source": [
    "%%HTML\n",
    "<div style=\"text-align: center\">\n",
    "<iframe width=\"560\" height=\"315\" src=\"https://youtube.com/embed/WBDUYuQ-r7I\" frameborder=\"0\" allowfullscreen></iframe>\n",
    "\n",
    "</div>"
   ]
  },
  {
   "cell_type": "markdown",
   "id": "separate-speaking",
   "metadata": {},
   "source": [
    "`If` statements (and the related `elif` and `else`) are conditional statements such that if they evaluate as `True` the associated code chunk is run, else some other code chunk is run. In the following example, the `else` statement catches any cases where neither the `if` nor `elif` statements evaluate as `True`."
   ]
  },
  {
   "cell_type": "code",
   "execution_count": 57,
   "id": "super-literature",
   "metadata": {},
   "outputs": [
    {
     "name": "stdout",
     "output_type": "stream",
     "text": [
      "5 is less than 6\n"
     ]
    }
   ],
   "source": [
    "my_first_number = 5\n",
    "my_second_number = 6\n",
    "\n",
    "if my_first_number < my_second_number:\n",
    "    print(my_first_number, 'is less than', my_second_number)\n",
    "elif my_first_number > my_second_number:\n",
    "    print(my_first_number, 'is greater than', my_second_number)\n",
    "else:\n",
    "    print(my_first_number, 'is equal to', my_second_number)"
   ]
  },
  {
   "cell_type": "code",
   "execution_count": null,
   "id": "incoming-venue",
   "metadata": {},
   "outputs": [],
   "source": [
    " "
   ]
  },
  {
   "cell_type": "markdown",
   "id": "interpreted-highland",
   "metadata": {},
   "source": [
    "What do you think will happen if you set the values of both numbers to be the same - and delete the last two lines of code (i.e., the line beginning `else:` and the following one)?"
   ]
  },
  {
   "cell_type": "markdown",
   "id": "comprehensive-detail",
   "metadata": {},
   "source": [
    "```{admonition} Click the button to reveal answer\n",
    ":class: dropdown \n",
    "    Nothing happens. The `if` statement evaluates to False, not True, as does the `elif` statement. As nothing evaluates to True (and we didn't write any code that deals with other outcomes) nothing happens.\n",
    "```"
   ]
  }
 ],
 "metadata": {
  "kernelspec": {
   "display_name": "Python (data_science)",
   "language": "python",
   "name": "data_science"
  },
  "language_info": {
   "codemirror_mode": {
    "name": "ipython",
    "version": 3
   },
   "file_extension": ".py",
   "mimetype": "text/x-python",
   "name": "python",
   "nbconvert_exporter": "python",
   "pygments_lexer": "ipython3",
   "version": "3.9.5"
  }
 },
 "nbformat": 4,
 "nbformat_minor": 5
}
